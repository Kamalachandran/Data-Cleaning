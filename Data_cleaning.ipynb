{
 "cells": [
  {
   "cell_type": "markdown",
   "id": "cbc2b5f7-89e8-4a8f-85f1-4f8b004635c0",
   "metadata": {},
   "source": [
    "# Package"
   ]
  },
  {
   "cell_type": "code",
   "execution_count": 1,
   "id": "4fa7ce65-2608-429c-85be-08770b05e891",
   "metadata": {},
   "outputs": [],
   "source": [
    "# package\n",
    "import pandas as pd\n",
    "import re\n",
    "import phonenumbers\n",
    "from phonenumbers import NumberParseException, PhoneNumberFormat"
   ]
  },
  {
   "cell_type": "markdown",
   "id": "dab11ff9-b5d9-42bf-9981-3d50bc8c231e",
   "metadata": {},
   "source": [
    "# Import dataset"
   ]
  },
  {
   "cell_type": "code",
   "execution_count": 2,
   "id": "660ec89c-358f-4c70-9f03-08297a31c4e9",
   "metadata": {},
   "outputs": [],
   "source": [
    "# Import dataset\n",
    "df = pd.read_csv(\"sales_data_sample.csv\", encoding=\"latin1\")"
   ]
  },
  {
   "cell_type": "markdown",
   "id": "5990ad9c-fdd8-4381-bfbd-cd0892aafd7b",
   "metadata": {},
   "source": [
    "# Rename column headers"
   ]
  },
  {
   "cell_type": "code",
   "execution_count": 3,
   "id": "3b0b9db8-3dab-4b00-ac5a-a96871e1e3e6",
   "metadata": {},
   "outputs": [
    {
     "data": {
      "text/plain": [
       "Index(['ORDERNUMBER', 'QUANTITYORDERED', 'PRICEEACH', 'ORDERLINENUMBER',\n",
       "       'SALES', 'ORDERDATE', 'STATUS', 'QTR_ID', 'MONTH_ID', 'YEAR_ID',\n",
       "       'PRODUCTLINE', 'MSRP', 'PRODUCTCODE', 'CUSTOMERNAME', 'PHONE',\n",
       "       'ADDRESSLINE1', 'ADDRESSLINE2', 'CITY', 'STATE', 'POSTALCODE',\n",
       "       'COUNTRY', 'TERRITORY', 'CONTACTLASTNAME', 'CONTACTFIRSTNAME',\n",
       "       'DEALSIZE'],\n",
       "      dtype='object')"
      ]
     },
     "execution_count": 3,
     "metadata": {},
     "output_type": "execute_result"
    }
   ],
   "source": [
    "df.columns"
   ]
  },
  {
   "cell_type": "code",
   "execution_count": 4,
   "id": "24396d16-cba2-4a10-85e3-c8e7d8c8e69f",
   "metadata": {},
   "outputs": [],
   "source": [
    "# 1. Standardize column names (lowercase, no spaces)\n",
    "df.columns = (df.columns.str.strip().str.lower().str.replace(\" \", \"_\"))"
   ]
  },
  {
   "cell_type": "code",
   "execution_count": 5,
   "id": "54bc2d65-1464-403c-9957-a1a23d67361d",
   "metadata": {},
   "outputs": [],
   "source": [
    "# make more readable\n",
    "rename_dict = {\n",
    "    \"ordernumber\": \"order_number\",\n",
    "    \"quantityordered\": \"quantity_ordered\",\n",
    "    \"priceeach\": \"price_each\",\n",
    "    \"orderlinenumber\": \"order_line_number\",\n",
    "    \"sales\": \"sales\",\n",
    "    \"orderdate\": \"order_date\",\n",
    "    \"status\": \"status\",\n",
    "    \"qtr_id\": \"quarter_id\",\n",
    "    \"month_id\": \"month_id\",\n",
    "    \"year_id\": \"year_id\",\n",
    "    \"productline\": \"product_line\",\n",
    "    \"msrp\": \"msrp\",\n",
    "    \"productcode\": \"product_code\",\n",
    "    \"customername\": \"customer_name\",\n",
    "    \"phone\": \"phone\",\n",
    "    \"addressline1\": \"address_line1\",\n",
    "    \"addressline2\": \"address_line2\",\n",
    "    \"city\": \"city\",\n",
    "    \"state\": \"state\",\n",
    "    \"postalcode\": \"postal_code\",\n",
    "    \"country\": \"country\",\n",
    "    \"territory\": \"territory\",\n",
    "    \"contactlastname\": \"contact_last_name\",\n",
    "    \"contactfirstname\": \"contact_first_name\",\n",
    "    \"dealsize\": \"deal_size\"\n",
    "}\n",
    "\n",
    "# Apply rename\n",
    "df = df.rename(columns=rename_dict)"
   ]
  },
  {
   "cell_type": "code",
   "execution_count": 6,
   "id": "fa48ae54-f57e-4028-b432-e5df38e8f376",
   "metadata": {},
   "outputs": [
    {
     "data": {
      "text/plain": [
       "Index(['order_number', 'quantity_ordered', 'price_each', 'order_line_number',\n",
       "       'sales', 'order_date', 'status', 'quarter_id', 'month_id', 'year_id',\n",
       "       'product_line', 'msrp', 'product_code', 'customer_name', 'phone',\n",
       "       'address_line1', 'address_line2', 'city', 'state', 'postal_code',\n",
       "       'country', 'territory', 'contact_last_name', 'contact_first_name',\n",
       "       'deal_size'],\n",
       "      dtype='object')"
      ]
     },
     "execution_count": 6,
     "metadata": {},
     "output_type": "execute_result"
    }
   ],
   "source": [
    "df.columns"
   ]
  },
  {
   "cell_type": "markdown",
   "id": "9e5ae70a-c2ee-4cb1-91cb-9577546a3938",
   "metadata": {},
   "source": [
    "# Removing duplicate"
   ]
  },
  {
   "cell_type": "code",
   "execution_count": 7,
   "id": "c686aa11-08a0-4257-b327-bfb8f1e4b870",
   "metadata": {},
   "outputs": [
    {
     "name": "stdout",
     "output_type": "stream",
     "text": [
      "Number of duplicate rows: 0\n",
      "Shape of DataFrame Before Removing Duplicates:  (2823, 25)\n",
      "Shape of DataFrame After Removing Duplicates:  (2823, 25)\n"
     ]
    }
   ],
   "source": [
    "#Check for duplicate rows\n",
    "duplicate_rows = df.duplicated()\n",
    "\n",
    "# Count of duplicate rows\n",
    "print(f\"Number of duplicate rows: {duplicate_rows.sum()}\")\n",
    "\n",
    "print(\"Shape of DataFrame Before Removing Duplicates: \", df.shape)\n",
    "\n",
    "# Drop the duplicates\n",
    "df = df.drop_duplicates()\n",
    "\n",
    "# Checking the shape of the data after dropping duplicates\n",
    "print(\"Shape of DataFrame After Removing Duplicates: \", df.shape)"
   ]
  },
  {
   "cell_type": "markdown",
   "id": "b7f99f11-4e1e-49a8-8c4d-c6bf28c17305",
   "metadata": {},
   "source": [
    "# Standardize values "
   ]
  },
  {
   "cell_type": "code",
   "execution_count": 8,
   "id": "39b836f4-16db-465b-92b7-00845a7d3af9",
   "metadata": {},
   "outputs": [],
   "source": [
    "#Standardize text fields\n",
    "df[\"status\"] = df[\"status\"].str.strip().str.upper()\n",
    "df[\"country\"] = df[\"country\"].str.strip().str.title()\n",
    "df[\"state\"] = df[\"state\"].fillna(\"\").str.upper()\n",
    "df[\"city\"] = df[\"city\"].str.title()"
   ]
  },
  {
   "cell_type": "code",
   "execution_count": 9,
   "id": "698853e3-d1d7-44f5-b969-4721a0059dca",
   "metadata": {},
   "outputs": [],
   "source": [
    "# convert datatype year/month/quarter to integers\n",
    "df[\"year_id\"] = df[\"year_id\"].astype(int)\n",
    "df[\"month_id\"] = df[\"month_id\"].astype(int)\n",
    "df[\"quarter_id\"] = df[\"quarter_id\"].astype(int)"
   ]
  },
  {
   "cell_type": "markdown",
   "id": "8e86f81b-d9e9-40e7-acc3-f0f9dbe7d015",
   "metadata": {},
   "source": [
    "# Convert date formats"
   ]
  },
  {
   "cell_type": "code",
   "execution_count": 10,
   "id": "ade26e76-5963-45f6-b16e-ff7275b424a5",
   "metadata": {},
   "outputs": [
    {
     "name": "stderr",
     "output_type": "stream",
     "text": [
      "C:\\Users\\Kamalachandran\\AppData\\Local\\Temp\\ipykernel_7372\\4063435976.py:2: UserWarning: Parsing dates in %m/%d/%Y %H:%M format when dayfirst=True was specified. Pass `dayfirst=False` or specify a format to silence this warning.\n",
      "  df[\"order_date\"] = pd.to_datetime(df[\"order_date\"], errors=\"coerce\", dayfirst=True)\n"
     ]
    }
   ],
   "source": [
    "#Convert date formats\n",
    "df[\"order_date\"] = pd.to_datetime(df[\"order_date\"], errors=\"coerce\", dayfirst=True)\n",
    "df[\"order_date\"] = df[\"order_date\"].dt.strftime(\"%d-%m-%Y\")"
   ]
  },
  {
   "cell_type": "markdown",
   "id": "da1267b0-435b-4e50-9626-8d7325af3197",
   "metadata": {},
   "source": [
    "# Check and fix data types"
   ]
  },
  {
   "cell_type": "code",
   "execution_count": 11,
   "id": "946621b7-1368-45e9-ab1e-f0696b739ae8",
   "metadata": {},
   "outputs": [],
   "source": [
    "# Convert data types\n",
    "df[\"order_number\"] = df[\"order_number\"].astype(int)\n",
    "df[\"quantity_ordered\"] = df[\"quantity_ordered\"].astype(int)\n",
    "df[\"order_line_number\"] = df[\"order_line_number\"].astype(int)\n",
    "\n",
    "df[\"price_each\"] = df[\"price_each\"].astype(float)\n",
    "df[\"sales\"] = df[\"sales\"].astype(float)\n",
    "\n",
    "df[\"postal_code\"] = df[\"postal_code\"].astype(str)"
   ]
  },
  {
   "cell_type": "code",
   "execution_count": 12,
   "id": "2c04faf2-2612-4040-86b7-6b346bc10184",
   "metadata": {},
   "outputs": [],
   "source": [
    "#Trim whitespace in names\n",
    "df[\"customer_name\"] = df[\"customer_name\"].str.strip().str.title()\n",
    "df[\"contact_last_name\"] = df[\"contact_last_name\"].str.strip().str.title()\n",
    "df[\"contact_first_name\"] = df[\"contact_first_name\"].str.strip().str.title()"
   ]
  },
  {
   "cell_type": "markdown",
   "id": "987213bf-4cf5-4314-b9e9-15813335c807",
   "metadata": {},
   "source": [
    "# Format phone number"
   ]
  },
  {
   "cell_type": "code",
   "execution_count": 13,
   "id": "12711e07-cec3-453d-b2cc-b833c469f3f1",
   "metadata": {},
   "outputs": [
    {
     "data": {
      "text/plain": [
       "0      2125557818\n",
       "1        26471555\n",
       "2    +33146627555\n",
       "3      6265557265\n",
       "4      6505551386\n",
       "Name: phone, dtype: object"
      ]
     },
     "execution_count": 13,
     "metadata": {},
     "output_type": "execute_result"
    }
   ],
   "source": [
    "df['phone'] = df['phone'].str.replace(r\"[.\\s]\", \"\", regex=True)\n",
    "df['phone'].head()"
   ]
  },
  {
   "cell_type": "code",
   "execution_count": 14,
   "id": "3a08f134-6532-4768-bed6-a82523fa3f08",
   "metadata": {},
   "outputs": [],
   "source": [
    "def format_phone_number(number, default_region='US'):\n",
    "    try:\n",
    "        number = number.replace(\".\", \"\").replace(\"(\", \"\").replace(\")\", \"\").replace(\" \", \"\")\n",
    "        parsed = phonenumbers.parse(str(number), default_region)\n",
    "        if phonenumbers.is_valid_number(parsed):\n",
    "            return str(parsed.national_number)\n",
    "        else:\n",
    "            return None\n",
    "    except NumberParseException:\n",
    "        return None\n",
    "\n",
    "# -----------------------------\n",
    "# Step 3: Apply formatting\n",
    "# -----------------------------\n",
    "df['phone'] = df['phone'].apply(format_phone_number)"
   ]
  },
  {
   "cell_type": "markdown",
   "id": "f3eab03d-ae43-48d6-87c8-61483fde1967",
   "metadata": {},
   "source": [
    "# Handling missing values"
   ]
  },
  {
   "cell_type": "code",
   "execution_count": 15,
   "id": "5ac64090-077d-4396-8367-6f9c7082c796",
   "metadata": {},
   "outputs": [
    {
     "data": {
      "text/plain": [
       "order_number             0\n",
       "quantity_ordered         0\n",
       "price_each               0\n",
       "order_line_number        0\n",
       "sales                    0\n",
       "order_date               0\n",
       "status                   0\n",
       "quarter_id               0\n",
       "month_id                 0\n",
       "year_id                  0\n",
       "product_line             0\n",
       "msrp                     0\n",
       "product_code             0\n",
       "customer_name            0\n",
       "phone                 1483\n",
       "address_line1            0\n",
       "address_line2         2521\n",
       "city                     0\n",
       "state                    0\n",
       "postal_code              0\n",
       "country                  0\n",
       "territory             1074\n",
       "contact_last_name        0\n",
       "contact_first_name       0\n",
       "deal_size                0\n",
       "dtype: int64"
      ]
     },
     "execution_count": 15,
     "metadata": {},
     "output_type": "execute_result"
    }
   ],
   "source": [
    "df.isnull().sum()"
   ]
  },
  {
   "cell_type": "code",
   "execution_count": 16,
   "id": "44a8c517-3b00-4142-beb4-0a5a12d3e303",
   "metadata": {},
   "outputs": [
    {
     "data": {
      "text/plain": [
       "order_number          0\n",
       "quantity_ordered      0\n",
       "price_each            0\n",
       "order_line_number     0\n",
       "sales                 0\n",
       "order_date            0\n",
       "status                0\n",
       "quarter_id            0\n",
       "month_id              0\n",
       "year_id               0\n",
       "product_line          0\n",
       "msrp                  0\n",
       "product_code          0\n",
       "customer_name         0\n",
       "phone                 0\n",
       "address_line1         0\n",
       "address_line2         0\n",
       "city                  0\n",
       "state                 0\n",
       "postal_code           0\n",
       "country               0\n",
       "territory             0\n",
       "contact_last_name     0\n",
       "contact_first_name    0\n",
       "deal_size             0\n",
       "dtype: int64"
      ]
     },
     "execution_count": 16,
     "metadata": {},
     "output_type": "execute_result"
    }
   ],
   "source": [
    "df[\"address_line2\"] = df[\"address_line2\"].fillna(\"NA\")\n",
    "df[\"territory\"] = df[\"territory\"].fillna(\"NA\")\n",
    "\n",
    "df[\"state\"]=df[\"state\"].replace(\"\",pd.NA)\n",
    "df[\"state\"]=df[\"state\"].replace(pd.NA,\"Unknown\")\n",
    "\n",
    "df[\"phone\"]=df[\"phone\"].replace(\"\",pd.NA)\n",
    "df[\"phone\"]=df[\"phone\"].replace(pd.NA,\"Unknown\")\n",
    "\n",
    "df[\"postal_code\"] = df[\"postal_code\"].replace(\"\",pd.NA)\n",
    "df[\"postal_code\"] = df[\"postal_code\"].replace(\"nan\",pd.NA)\n",
    "df[\"postal_code\"] = df[\"postal_code\"].replace(pd.NA,\"Unknown\")\n",
    "\n",
    "df.isnull().sum()"
   ]
  },
  {
   "cell_type": "markdown",
   "id": "225e3a35-cfc4-4126-9f3f-3267688e2672",
   "metadata": {},
   "source": [
    "# Export dataset"
   ]
  },
  {
   "cell_type": "code",
   "execution_count": 17,
   "id": "29610a57-4794-434a-a847-0170b2f0245d",
   "metadata": {},
   "outputs": [],
   "source": [
    "# Export dataset\n",
    "df.to_csv(\"cleaned_data.csv\", index=False, encoding=\"utf-8\")"
   ]
  }
 ],
 "metadata": {
  "kernelspec": {
   "display_name": "Python 3 (ipykernel)",
   "language": "python",
   "name": "python3"
  },
  "language_info": {
   "codemirror_mode": {
    "name": "ipython",
    "version": 3
   },
   "file_extension": ".py",
   "mimetype": "text/x-python",
   "name": "python",
   "nbconvert_exporter": "python",
   "pygments_lexer": "ipython3",
   "version": "3.13.7"
  }
 },
 "nbformat": 4,
 "nbformat_minor": 5
}
